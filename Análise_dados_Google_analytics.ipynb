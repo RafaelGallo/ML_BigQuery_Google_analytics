{
  "nbformat": 4,
  "nbformat_minor": 0,
  "metadata": {
    "colab": {
      "private_outputs": true,
      "provenance": [],
      "authorship_tag": "ABX9TyM6ErBvpuww/cXWrR6F2ern",
      "include_colab_link": true
    },
    "kernelspec": {
      "name": "python3",
      "display_name": "Python 3"
    },
    "language_info": {
      "name": "python"
    }
  },
  "cells": [
    {
      "cell_type": "markdown",
      "metadata": {
        "id": "view-in-github",
        "colab_type": "text"
      },
      "source": [
        "<a href=\"https://colab.research.google.com/github/RafaelGallo/ML_BigQuery_Google_analytics/blob/main/An%C3%A1lise_dados_Google_analytics.ipynb\" target=\"_parent\"><img src=\"https://colab.research.google.com/assets/colab-badge.svg\" alt=\"Open In Colab\"/></a>"
      ]
    },
    {
      "cell_type": "code",
      "execution_count": null,
      "metadata": {
        "id": "Y9LBtA7vzaFy"
      },
      "outputs": [],
      "source": [
        "## Bibliotecas geral\n",
        "import pandas as pd\n",
        "import seaborn as sns\n",
        "import matplotlib.pyplot as plt\n",
        "\n",
        "from google.colab import auth\n",
        "from google.cloud import bigquery\n",
        "from google.colab import data_table"
      ]
    },
    {
      "cell_type": "code",
      "source": [
        "# Project ID inserted based on the query results selected to explore\n",
        "project = 'samara-a2d79'"
      ],
      "metadata": {
        "id": "V3D1tKxLzqZ3"
      },
      "execution_count": null,
      "outputs": []
    },
    {
      "cell_type": "code",
      "source": [
        "# Location inserted based on the query results selected to explore\n",
        "location = 'US'"
      ],
      "metadata": {
        "id": "HZWnj0fJzrdx"
      },
      "execution_count": null,
      "outputs": []
    },
    {
      "cell_type": "code",
      "source": [
        "# Project\n",
        "client = bigquery.Client(project=project, location=location)\n",
        "data_table.enable_dataframe_formatter()\n",
        "auth.authenticate_user()"
      ],
      "metadata": {
        "id": "mtm-exCnzd8k"
      },
      "execution_count": null,
      "outputs": []
    },
    {
      "cell_type": "code",
      "source": [
        "# Running this code will display the query used to generate your previous job\n",
        "\n",
        "job = client.get_job('bquxjob_7f8f45a2_18d29c8ffc0') # Job ID inserted based on the query results selected to explore\n",
        "print(job.query)"
      ],
      "metadata": {
        "id": "9Q_VmEAVzuTJ"
      },
      "execution_count": null,
      "outputs": []
    },
    {
      "cell_type": "code",
      "source": [
        "# Running this code will read results from your previous job\n",
        "\n",
        "# Job ID inserted based on the query results selected to explore\n",
        "job = client.get_job('bquxjob_7f8f45a2_18d29c8ffc0')\n",
        "data = job.to_dataframe()\n",
        "data"
      ],
      "metadata": {
        "id": "NlgJEKc6zz8f"
      },
      "execution_count": null,
      "outputs": []
    },
    {
      "cell_type": "code",
      "source": [
        "## Data - tabela 2\n",
        "\n",
        "# Job ID inserted based on the query results selected to explore\n",
        "job = client.get_job('bquxjob_57178458_18d29d404e6')\n",
        "data2 = job.to_dataframe()\n",
        "data2"
      ],
      "metadata": {
        "id": "2_rwRQqb1coM"
      },
      "execution_count": null,
      "outputs": []
    },
    {
      "cell_type": "code",
      "source": [
        "data.tail()"
      ],
      "metadata": {
        "id": "S4dJZZ9Xz56n"
      },
      "execution_count": null,
      "outputs": []
    },
    {
      "cell_type": "code",
      "source": [
        "data.shape"
      ],
      "metadata": {
        "id": "FtwMH_W0z-yP"
      },
      "execution_count": null,
      "outputs": []
    },
    {
      "cell_type": "code",
      "source": [
        "data.info()"
      ],
      "metadata": {
        "id": "DdS0CI_Qz_w3"
      },
      "execution_count": null,
      "outputs": []
    },
    {
      "cell_type": "code",
      "source": [
        "data.dtypes"
      ],
      "metadata": {
        "id": "dQfGDuRa0BQA"
      },
      "execution_count": null,
      "outputs": []
    },
    {
      "cell_type": "code",
      "source": [
        "data.describe().T"
      ],
      "metadata": {
        "id": "LScw0Wuy0Eh_"
      },
      "execution_count": null,
      "outputs": []
    },
    {
      "cell_type": "code",
      "source": [
        "data.visitNumber.value_counts()"
      ],
      "metadata": {
        "id": "Oca5mTHo0g7z"
      },
      "execution_count": null,
      "outputs": []
    },
    {
      "cell_type": "code",
      "source": [
        "data.hitNumber.value_counts()"
      ],
      "metadata": {
        "id": "YhuNEI5K0nlj"
      },
      "execution_count": null,
      "outputs": []
    },
    {
      "cell_type": "code",
      "source": [
        "data.pagePath.value_counts()"
      ],
      "metadata": {
        "id": "JreAIQ4J0roa"
      },
      "execution_count": null,
      "outputs": []
    },
    {
      "cell_type": "code",
      "source": [
        "# Ajuntar as duas tabelas\n",
        "df = pd.merge(data, data2, on='fullVisitorId', how='left')\n",
        "\n",
        "# Salvando novo dataset\n",
        "df.to_csv(\"dataset_google_analytics.csv\",index=False)\n",
        "\n",
        "# Salvar o DataFrame em um arquivo Excel\n",
        "df.to_excel('dataset_google_analytics.xlsx', index=False)"
      ],
      "metadata": {
        "id": "KLNu95mn04lg"
      },
      "execution_count": null,
      "outputs": []
    },
    {
      "cell_type": "code",
      "source": [
        "# Visualizando novo dataset\n",
        "df"
      ],
      "metadata": {
        "id": "SAaFBsdB2S05"
      },
      "execution_count": null,
      "outputs": []
    },
    {
      "cell_type": "code",
      "source": [
        "### Limpéza dados\n",
        "# Verificar dados nulos em todo o DataFrame\n",
        "dados_nulos = df.isnull().sum()\n",
        "dados_nulos"
      ],
      "metadata": {
        "id": "DS64t9Vz28E4"
      },
      "execution_count": null,
      "outputs": []
    },
    {
      "cell_type": "code",
      "source": [
        "# Verificar dados nulos em uma coluna específica\n",
        "df['transactionRevenue'].isnull().sum()"
      ],
      "metadata": {
        "id": "cqxQ-Px-3z66"
      },
      "execution_count": null,
      "outputs": []
    },
    {
      "cell_type": "code",
      "source": [
        "# Verificar dados nulos em uma coluna específica\n",
        "df['newVisits'].isnull().sum()"
      ],
      "metadata": {
        "id": "EaVQEY8t30DW"
      },
      "execution_count": null,
      "outputs": []
    },
    {
      "cell_type": "code",
      "source": [
        "# Remover linhas com valores nulos apenas na coluna 'coluna1'\n",
        "# Remover linhas com valores nulos apenas na coluna 'coluna1' inplace\n",
        "df.dropna(subset=['transactionRevenue'], inplace=True)\n",
        "\n",
        "# Exibir o DataFrame resultante\n",
        "# Verificar dados nulos em uma coluna específica\n",
        "df['transactionRevenue'].isnull().sum()"
      ],
      "metadata": {
        "id": "6NCJksk34xCR"
      },
      "execution_count": null,
      "outputs": []
    },
    {
      "cell_type": "code",
      "source": [
        "# Remover linhas com valores nulos apenas na coluna 'coluna1' inplace\n",
        "df.dropna(subset=['newVisits'], inplace=True)\n",
        "\n",
        "# Exibir o DataFrame resultante\n",
        "# Verificar dados nulos em uma coluna específica\n",
        "df['newVisits'].isnull().sum()"
      ],
      "metadata": {
        "id": "DuNJMc3G4xIw"
      },
      "execution_count": null,
      "outputs": []
    },
    {
      "cell_type": "code",
      "source": [
        "# Verificar dados nulos em todo o DataFrame\n",
        "dados_nulos = df.isnull().sum()\n",
        "dados_nulos"
      ],
      "metadata": {
        "id": "TJ5dtsZE5BRM"
      },
      "execution_count": null,
      "outputs": []
    },
    {
      "cell_type": "code",
      "source": [
        "# Remover linhas com valores nulos\n",
        "df.dropna()\n",
        "\n",
        "# Verificar dados nulos em todo o DataFrame\n",
        "dados_nulos = df.isnull().sum()\n",
        "dados_nulos"
      ],
      "metadata": {
        "id": "WrTbcL6_28ME"
      },
      "execution_count": null,
      "outputs": []
    },
    {
      "cell_type": "code",
      "source": [
        "# Usar o groupby para agrupar por \"browser\" e calcular a soma de \"visitNumber_x\"\n",
        "resultado = df.groupby('browser')['visitNumber_x'].agg(['sum', 'count']).reset_index()\n",
        "resultado.rename(columns={'sum': 'Total', 'count': 'Count'}, inplace=True)\n",
        "\n",
        "# Exibir o resultado\n",
        "resultado.head()"
      ],
      "metadata": {
        "id": "fzRbgnqN2Vd0"
      },
      "execution_count": null,
      "outputs": []
    },
    {
      "cell_type": "code",
      "source": [
        "sns.barplot(x=\"browser\", y=\"Count\", data=resultado)"
      ],
      "metadata": {
        "id": "KBjQfF9m3HD-"
      },
      "execution_count": null,
      "outputs": []
    },
    {
      "cell_type": "code",
      "source": [
        "# Usar o groupby para agrupar por \"browser\" e calcular a soma de \"transactionRevenue\"\n",
        "resultado2 = df.groupby('browser')['transactionRevenue'].agg(['sum', 'count']).reset_index()\n",
        "resultado2.rename(columns={'sum': 'Total', 'count': 'Count'}, inplace=True)\n",
        "\n",
        "# Exibir o resultado\n",
        "resultado2"
      ],
      "metadata": {
        "id": "IhsdGsYF3b-q"
      },
      "execution_count": null,
      "outputs": []
    },
    {
      "cell_type": "code",
      "source": [
        "sns.barplot(x=\"browser\", y=\"Total\", data=resultado2)"
      ],
      "metadata": {
        "id": "4YcVp2Ei5ikK"
      },
      "execution_count": null,
      "outputs": []
    },
    {
      "cell_type": "code",
      "source": [
        "sns.scatterplot(x=\"hitNumber_y\", y=\"transactionRevenue\", data=df, hue=\"browser\")"
      ],
      "metadata": {
        "id": "K4UA2dI15io8"
      },
      "execution_count": null,
      "outputs": []
    },
    {
      "cell_type": "code",
      "source": [
        "# Agrupar por 'visitNumber_x' e 'browser' e calcular a média de 'visits'\n",
        "resultado3 = df.groupby(['visitNumber_x', 'browser'])['visits'].mean().reset_index()\n",
        "\n",
        "# Renomear a coluna resultante para 'média'\n",
        "resultado3 = resultado3.rename(columns={'visits': 'média'})\n",
        "\n",
        "# Visualizando\n",
        "resultado3.head()"
      ],
      "metadata": {
        "id": "GZm5rkXJ5itG"
      },
      "execution_count": null,
      "outputs": []
    },
    {
      "cell_type": "code",
      "source": [
        "sns.barplot(x=\"browser\", y=\"visitNumber_x\", hue=\"browser\", data=resultado3)"
      ],
      "metadata": {
        "id": "jeXOWIWF6xyC"
      },
      "execution_count": null,
      "outputs": []
    },
    {
      "cell_type": "code",
      "source": [
        "sns.histplot(df[\"transactionRevenue\"])"
      ],
      "metadata": {
        "id": "Anlabe8N7y1r"
      },
      "execution_count": null,
      "outputs": []
    },
    {
      "cell_type": "code",
      "source": [
        "# Agrupar por 'newVisits' e 'browser' e calcular o total de 'transactionRevenue'\n",
        "resultado4 = df.groupby(['newVisits', 'browser'])['transactionRevenue'].sum().reset_index()\n",
        "\n",
        "# Adicionar uma coluna 'total' ao DataFrame usando transform\n",
        "resultado4['total'] = resultado4.groupby(['browser'])['transactionRevenue'].transform('sum')\n",
        "\n",
        "# Visualizando\n",
        "resultado4.head()"
      ],
      "metadata": {
        "id": "mbeltaz073y-"
      },
      "execution_count": null,
      "outputs": []
    },
    {
      "cell_type": "code",
      "source": [
        "# Criar um gráfico de barras\n",
        "sns.barplot(x='browser', y='transactionRevenue', data=resultado4)\n",
        "\n",
        "# Adicionar rótulos e título ao gráfico\n",
        "plt.xlabel('Navegador')\n",
        "plt.ylabel('Total de Acessos')\n",
        "plt.title('Total de Acessos com Navegadores por Tipo de Visita')\n",
        "\n",
        "# Exibir o gráfico\n",
        "plt.show()"
      ],
      "metadata": {
        "id": "4O6rsNsZ7359"
      },
      "execution_count": null,
      "outputs": []
    },
    {
      "cell_type": "code",
      "source": [
        "sns.boxplot(x=\"browser\", y=\"transactionRevenue\", data=df)"
      ],
      "metadata": {
        "id": "wiiDtmcr9A1q"
      },
      "execution_count": null,
      "outputs": []
    }
  ]
}